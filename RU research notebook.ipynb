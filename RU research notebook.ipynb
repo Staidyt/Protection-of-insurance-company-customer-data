{
 "cells": [
  {
   "cell_type": "markdown",
   "metadata": {},
   "source": [
    "# Защита персональных данных клиентов"
   ]
  },
  {
   "cell_type": "markdown",
   "metadata": {},
   "source": [
    "Нужно защитить данные клиентов страховой компании «Хоть потоп». Разработать такой метод преобразования данных, чтобы по ним было сложно восстановить персональную информацию. Обосновать корректность его работы.\n",
    "\n",
    "Нужно защитить данные, чтобы при преобразовании качество моделей машинного обучения не ухудшилось. Подбирать наилучшую модель не требуется."
   ]
  },
  {
   "cell_type": "markdown",
   "metadata": {},
   "source": [
    "<b> Описание данных </b>\n",
    "\n",
    "Набор данных находится в файле: datasets/insurance.csv\n",
    "\n",
    "- Признаки: пол, возраст и зарплата застрахованного, количество членов его семьи.\n",
    "- Целевой признак: количество страховых выплат клиенту за последние 5 лет."
   ]
  },
  {
   "cell_type": "markdown",
   "metadata": {},
   "source": [
    "## Описание хода работы"
   ]
  },
  {
   "cell_type": "markdown",
   "metadata": {},
   "source": [
    "1. Загрузить и изучить данные.\n",
    "2. Ответить на вопрос и обосновать решение. \n",
    "     - Признаки умножают на обратимую матрицу. Изменится ли качество линейной регрессии? (Её можно обучить заново.)\n",
    "         - a. Изменится. Привести примеры матриц.\n",
    "         - b. Не изменится. Указать, как связаны параметры линейной регрессии в исходной задаче и в преобразованной.\n",
    "3. Предложить алгоритм преобразования данных для решения задачи. Обосновать, почему качество линейной регрессии не поменяется.\n",
    "4. Запрограммировать этот алгоритм, применив матричные операции. Проверить, что качество линейной регрессии из sklearn не отличается до и после преобразования. Применить метрику R2."
   ]
  },
  {
   "cell_type": "markdown",
   "metadata": {
    "tags": []
   },
   "source": [
    "## Настройки рабочей тетради"
   ]
  },
  {
   "cell_type": "code",
   "execution_count": 1,
   "metadata": {},
   "outputs": [],
   "source": [
    "# Импорт библиотек\n",
    "\n",
    "import pandas as pd\n",
    "import numpy as np\n",
    "\n",
    "from sklearn.model_selection import train_test_split\n",
    "from sklearn.linear_model import LinearRegression\n",
    "from sklearn.metrics import r2_score\n",
    "\n",
    "import os"
   ]
  },
  {
   "cell_type": "code",
   "execution_count": 2,
   "metadata": {},
   "outputs": [],
   "source": [
    "# Настройки библиотек\n",
    "\n",
    " \n",
    "# Сброс ограничений на число столбцов\n",
    "pd.set_option('display.max_columns', None)"
   ]
  },
  {
   "cell_type": "code",
   "execution_count": 3,
   "metadata": {},
   "outputs": [],
   "source": [
    "# Путь к директории с данными\n",
    "\n",
    "path = 'datasets/'"
   ]
  },
  {
   "cell_type": "markdown",
   "metadata": {},
   "source": [
    "## Загрузка и предобработка данных"
   ]
  },
  {
   "cell_type": "code",
   "execution_count": 4,
   "metadata": {},
   "outputs": [
    {
     "data": {
      "text/html": [
       "<div>\n",
       "<style scoped>\n",
       "    .dataframe tbody tr th:only-of-type {\n",
       "        vertical-align: middle;\n",
       "    }\n",
       "\n",
       "    .dataframe tbody tr th {\n",
       "        vertical-align: top;\n",
       "    }\n",
       "\n",
       "    .dataframe thead th {\n",
       "        text-align: right;\n",
       "    }\n",
       "</style>\n",
       "<table border=\"1\" class=\"dataframe\">\n",
       "  <thead>\n",
       "    <tr style=\"text-align: right;\">\n",
       "      <th></th>\n",
       "      <th>Пол</th>\n",
       "      <th>Возраст</th>\n",
       "      <th>Зарплата</th>\n",
       "      <th>Члены семьи</th>\n",
       "      <th>Страховые выплаты</th>\n",
       "    </tr>\n",
       "  </thead>\n",
       "  <tbody>\n",
       "    <tr>\n",
       "      <th>0</th>\n",
       "      <td>1</td>\n",
       "      <td>41.0</td>\n",
       "      <td>49600.0</td>\n",
       "      <td>1</td>\n",
       "      <td>0</td>\n",
       "    </tr>\n",
       "    <tr>\n",
       "      <th>1</th>\n",
       "      <td>0</td>\n",
       "      <td>46.0</td>\n",
       "      <td>38000.0</td>\n",
       "      <td>1</td>\n",
       "      <td>1</td>\n",
       "    </tr>\n",
       "    <tr>\n",
       "      <th>2</th>\n",
       "      <td>0</td>\n",
       "      <td>29.0</td>\n",
       "      <td>21000.0</td>\n",
       "      <td>0</td>\n",
       "      <td>0</td>\n",
       "    </tr>\n",
       "    <tr>\n",
       "      <th>3</th>\n",
       "      <td>0</td>\n",
       "      <td>21.0</td>\n",
       "      <td>41700.0</td>\n",
       "      <td>2</td>\n",
       "      <td>0</td>\n",
       "    </tr>\n",
       "    <tr>\n",
       "      <th>4</th>\n",
       "      <td>1</td>\n",
       "      <td>28.0</td>\n",
       "      <td>26100.0</td>\n",
       "      <td>0</td>\n",
       "      <td>0</td>\n",
       "    </tr>\n",
       "    <tr>\n",
       "      <th>...</th>\n",
       "      <td>...</td>\n",
       "      <td>...</td>\n",
       "      <td>...</td>\n",
       "      <td>...</td>\n",
       "      <td>...</td>\n",
       "    </tr>\n",
       "    <tr>\n",
       "      <th>4995</th>\n",
       "      <td>0</td>\n",
       "      <td>28.0</td>\n",
       "      <td>35700.0</td>\n",
       "      <td>2</td>\n",
       "      <td>0</td>\n",
       "    </tr>\n",
       "    <tr>\n",
       "      <th>4996</th>\n",
       "      <td>0</td>\n",
       "      <td>34.0</td>\n",
       "      <td>52400.0</td>\n",
       "      <td>1</td>\n",
       "      <td>0</td>\n",
       "    </tr>\n",
       "    <tr>\n",
       "      <th>4997</th>\n",
       "      <td>0</td>\n",
       "      <td>20.0</td>\n",
       "      <td>33900.0</td>\n",
       "      <td>2</td>\n",
       "      <td>0</td>\n",
       "    </tr>\n",
       "    <tr>\n",
       "      <th>4998</th>\n",
       "      <td>1</td>\n",
       "      <td>22.0</td>\n",
       "      <td>32700.0</td>\n",
       "      <td>3</td>\n",
       "      <td>0</td>\n",
       "    </tr>\n",
       "    <tr>\n",
       "      <th>4999</th>\n",
       "      <td>1</td>\n",
       "      <td>28.0</td>\n",
       "      <td>40600.0</td>\n",
       "      <td>1</td>\n",
       "      <td>0</td>\n",
       "    </tr>\n",
       "  </tbody>\n",
       "</table>\n",
       "<p>5000 rows × 5 columns</p>\n",
       "</div>"
      ],
      "text/plain": [
       "      Пол  Возраст  Зарплата  Члены семьи  Страховые выплаты\n",
       "0       1     41.0   49600.0            1                  0\n",
       "1       0     46.0   38000.0            1                  1\n",
       "2       0     29.0   21000.0            0                  0\n",
       "3       0     21.0   41700.0            2                  0\n",
       "4       1     28.0   26100.0            0                  0\n",
       "...   ...      ...       ...          ...                ...\n",
       "4995    0     28.0   35700.0            2                  0\n",
       "4996    0     34.0   52400.0            1                  0\n",
       "4997    0     20.0   33900.0            2                  0\n",
       "4998    1     22.0   32700.0            3                  0\n",
       "4999    1     28.0   40600.0            1                  0\n",
       "\n",
       "[5000 rows x 5 columns]"
      ]
     },
     "metadata": {},
     "output_type": "display_data"
    },
    {
     "name": "stdout",
     "output_type": "stream",
     "text": [
      "<class 'pandas.core.frame.DataFrame'>\n",
      "RangeIndex: 5000 entries, 0 to 4999\n",
      "Data columns (total 5 columns):\n",
      " #   Column             Non-Null Count  Dtype  \n",
      "---  ------             --------------  -----  \n",
      " 0   Пол                5000 non-null   int64  \n",
      " 1   Возраст            5000 non-null   float64\n",
      " 2   Зарплата           5000 non-null   float64\n",
      " 3   Члены семьи        5000 non-null   int64  \n",
      " 4   Страховые выплаты  5000 non-null   int64  \n",
      "dtypes: float64(2), int64(3)\n",
      "memory usage: 195.4 KB\n"
     ]
    }
   ],
   "source": [
    "# Загрузка данных\n",
    "\n",
    "data = pd.read_csv(os.path.join(path, 'insurance.csv'))\n",
    "\n",
    "display(data)\n",
    "data.info()"
   ]
  },
  {
   "cell_type": "markdown",
   "metadata": {},
   "source": [
    "Пропусков нет. Для экономии памяти можно изменить тип данных во всех столбцах, кроме \"Зарплата\", на int8, а в столбце \"зарплата\" на int32"
   ]
  },
  {
   "cell_type": "code",
   "execution_count": 5,
   "metadata": {},
   "outputs": [
    {
     "name": "stdout",
     "output_type": "stream",
     "text": [
      "<class 'pandas.core.frame.DataFrame'>\n",
      "RangeIndex: 5000 entries, 0 to 4999\n",
      "Data columns (total 5 columns):\n",
      " #   Column             Non-Null Count  Dtype\n",
      "---  ------             --------------  -----\n",
      " 0   Пол                5000 non-null   int8 \n",
      " 1   Возраст            5000 non-null   int8 \n",
      " 2   Зарплата           5000 non-null   int32\n",
      " 3   Члены семьи        5000 non-null   int8 \n",
      " 4   Страховые выплаты  5000 non-null   int8 \n",
      "dtypes: int32(1), int8(4)\n",
      "memory usage: 39.2 KB\n"
     ]
    }
   ],
   "source": [
    "# Изменение типов\n",
    "\n",
    "data['Зарплата'] = data['Зарплата'].astype(int)\n",
    "\n",
    "for column in data.columns:\n",
    "    data[column] = pd.to_numeric(data[column], downcast='integer')\n",
    "    \n",
    "data.info()"
   ]
  },
  {
   "cell_type": "code",
   "execution_count": 6,
   "metadata": {},
   "outputs": [
    {
     "data": {
      "text/html": [
       "<div>\n",
       "<style scoped>\n",
       "    .dataframe tbody tr th:only-of-type {\n",
       "        vertical-align: middle;\n",
       "    }\n",
       "\n",
       "    .dataframe tbody tr th {\n",
       "        vertical-align: top;\n",
       "    }\n",
       "\n",
       "    .dataframe thead th {\n",
       "        text-align: right;\n",
       "    }\n",
       "</style>\n",
       "<table border=\"1\" class=\"dataframe\">\n",
       "  <thead>\n",
       "    <tr style=\"text-align: right;\">\n",
       "      <th></th>\n",
       "      <th>Пол</th>\n",
       "      <th>Возраст</th>\n",
       "      <th>Зарплата</th>\n",
       "      <th>Члены семьи</th>\n",
       "      <th>Страховые выплаты</th>\n",
       "    </tr>\n",
       "  </thead>\n",
       "  <tbody>\n",
       "    <tr>\n",
       "      <th>count</th>\n",
       "      <td>5000.000000</td>\n",
       "      <td>5000.000000</td>\n",
       "      <td>5000.000000</td>\n",
       "      <td>5000.000000</td>\n",
       "      <td>5000.000000</td>\n",
       "    </tr>\n",
       "    <tr>\n",
       "      <th>mean</th>\n",
       "      <td>0.499000</td>\n",
       "      <td>30.952800</td>\n",
       "      <td>39916.359400</td>\n",
       "      <td>1.194200</td>\n",
       "      <td>0.148000</td>\n",
       "    </tr>\n",
       "    <tr>\n",
       "      <th>std</th>\n",
       "      <td>0.500049</td>\n",
       "      <td>8.440807</td>\n",
       "      <td>9900.082063</td>\n",
       "      <td>1.091387</td>\n",
       "      <td>0.463183</td>\n",
       "    </tr>\n",
       "    <tr>\n",
       "      <th>min</th>\n",
       "      <td>0.000000</td>\n",
       "      <td>18.000000</td>\n",
       "      <td>5300.000000</td>\n",
       "      <td>0.000000</td>\n",
       "      <td>0.000000</td>\n",
       "    </tr>\n",
       "    <tr>\n",
       "      <th>25%</th>\n",
       "      <td>0.000000</td>\n",
       "      <td>24.000000</td>\n",
       "      <td>33300.000000</td>\n",
       "      <td>0.000000</td>\n",
       "      <td>0.000000</td>\n",
       "    </tr>\n",
       "    <tr>\n",
       "      <th>50%</th>\n",
       "      <td>0.000000</td>\n",
       "      <td>30.000000</td>\n",
       "      <td>40200.000000</td>\n",
       "      <td>1.000000</td>\n",
       "      <td>0.000000</td>\n",
       "    </tr>\n",
       "    <tr>\n",
       "      <th>75%</th>\n",
       "      <td>1.000000</td>\n",
       "      <td>37.000000</td>\n",
       "      <td>46600.000000</td>\n",
       "      <td>2.000000</td>\n",
       "      <td>0.000000</td>\n",
       "    </tr>\n",
       "    <tr>\n",
       "      <th>max</th>\n",
       "      <td>1.000000</td>\n",
       "      <td>65.000000</td>\n",
       "      <td>79000.000000</td>\n",
       "      <td>6.000000</td>\n",
       "      <td>5.000000</td>\n",
       "    </tr>\n",
       "  </tbody>\n",
       "</table>\n",
       "</div>"
      ],
      "text/plain": [
       "               Пол      Возраст      Зарплата  Члены семьи  Страховые выплаты\n",
       "count  5000.000000  5000.000000   5000.000000  5000.000000        5000.000000\n",
       "mean      0.499000    30.952800  39916.359400     1.194200           0.148000\n",
       "std       0.500049     8.440807   9900.082063     1.091387           0.463183\n",
       "min       0.000000    18.000000   5300.000000     0.000000           0.000000\n",
       "25%       0.000000    24.000000  33300.000000     0.000000           0.000000\n",
       "50%       0.000000    30.000000  40200.000000     1.000000           0.000000\n",
       "75%       1.000000    37.000000  46600.000000     2.000000           0.000000\n",
       "max       1.000000    65.000000  79000.000000     6.000000           5.000000"
      ]
     },
     "metadata": {},
     "output_type": "display_data"
    },
    {
     "data": {
      "text/html": [
       "<div>\n",
       "<style scoped>\n",
       "    .dataframe tbody tr th:only-of-type {\n",
       "        vertical-align: middle;\n",
       "    }\n",
       "\n",
       "    .dataframe tbody tr th {\n",
       "        vertical-align: top;\n",
       "    }\n",
       "\n",
       "    .dataframe thead th {\n",
       "        text-align: right;\n",
       "    }\n",
       "</style>\n",
       "<table border=\"1\" class=\"dataframe\">\n",
       "  <thead>\n",
       "    <tr style=\"text-align: right;\">\n",
       "      <th></th>\n",
       "      <th>Пол</th>\n",
       "      <th>Возраст</th>\n",
       "      <th>Зарплата</th>\n",
       "      <th>Члены семьи</th>\n",
       "      <th>Страховые выплаты</th>\n",
       "    </tr>\n",
       "  </thead>\n",
       "  <tbody>\n",
       "    <tr>\n",
       "      <th>Пол</th>\n",
       "      <td>1.000000</td>\n",
       "      <td>0.002074</td>\n",
       "      <td>0.014910</td>\n",
       "      <td>-0.008991</td>\n",
       "      <td>0.010140</td>\n",
       "    </tr>\n",
       "    <tr>\n",
       "      <th>Возраст</th>\n",
       "      <td>0.002074</td>\n",
       "      <td>1.000000</td>\n",
       "      <td>-0.019093</td>\n",
       "      <td>-0.006692</td>\n",
       "      <td>0.651030</td>\n",
       "    </tr>\n",
       "    <tr>\n",
       "      <th>Зарплата</th>\n",
       "      <td>0.014910</td>\n",
       "      <td>-0.019093</td>\n",
       "      <td>1.000000</td>\n",
       "      <td>-0.030296</td>\n",
       "      <td>-0.014963</td>\n",
       "    </tr>\n",
       "    <tr>\n",
       "      <th>Члены семьи</th>\n",
       "      <td>-0.008991</td>\n",
       "      <td>-0.006692</td>\n",
       "      <td>-0.030296</td>\n",
       "      <td>1.000000</td>\n",
       "      <td>-0.036290</td>\n",
       "    </tr>\n",
       "    <tr>\n",
       "      <th>Страховые выплаты</th>\n",
       "      <td>0.010140</td>\n",
       "      <td>0.651030</td>\n",
       "      <td>-0.014963</td>\n",
       "      <td>-0.036290</td>\n",
       "      <td>1.000000</td>\n",
       "    </tr>\n",
       "  </tbody>\n",
       "</table>\n",
       "</div>"
      ],
      "text/plain": [
       "                        Пол   Возраст  Зарплата  Члены семьи  \\\n",
       "Пол                1.000000  0.002074  0.014910    -0.008991   \n",
       "Возраст            0.002074  1.000000 -0.019093    -0.006692   \n",
       "Зарплата           0.014910 -0.019093  1.000000    -0.030296   \n",
       "Члены семьи       -0.008991 -0.006692 -0.030296     1.000000   \n",
       "Страховые выплаты  0.010140  0.651030 -0.014963    -0.036290   \n",
       "\n",
       "                   Страховые выплаты  \n",
       "Пол                         0.010140  \n",
       "Возраст                     0.651030  \n",
       "Зарплата                   -0.014963  \n",
       "Члены семьи                -0.036290  \n",
       "Страховые выплаты           1.000000  "
      ]
     },
     "metadata": {},
     "output_type": "display_data"
    }
   ],
   "source": [
    "display(data.describe())\n",
    "display(data.corr())"
   ]
  },
  {
   "cell_type": "markdown",
   "metadata": {},
   "source": [
    "Можно увидеть, что в таблице данных компании соблюден почти идеальный баланс между мужчинами и женщинами. Средний возраст застрахованного составляет около 31 года, при этом медиана составляет 30. Границы возраста застрахованных приводят к выводу, что компания не занимается страхованием лиц, чей возраст составляет менее 18 и старше 65 лет. Также интересно взглянуть на уровень заработной платы застрахованных - медиана составляет чуть более 40 000 рублей. В целом, в компании скорее представлен средний экономический класс, чем слишком бедные или слишком богатые граждане. \n",
    "    \n",
    "Также можно посмотреть корреляцию. Возраст и количество страховых выплат клиенту за последние 5 лет имеют корреляцию 0.651. Что выглядит логично: чем старше застрахованное лицо, тем более вероятно он потребует страховку чаще, следовательно, несёт в себе больше рисков для предприятия."
   ]
  },
  {
   "cell_type": "markdown",
   "metadata": {},
   "source": [
    "## Умножение матриц"
   ]
  },
  {
   "cell_type": "markdown",
   "metadata": {},
   "source": [
    "В этом задании вы можете записывать формулы в *Jupyter Notebook.*\n",
    "\n",
    "Чтобы записать формулу внутри текста, окружите её символами доллара \\\\$; если снаружи —  двойными символами \\\\$\\\\$. Эти формулы записываются на языке вёрстки *LaTeX.* \n",
    "\n",
    "Для примера мы записали формулы линейной регрессии. Можете их скопировать и отредактировать, чтобы решить задачу.\n",
    "\n",
    "Работать в *LaTeX* необязательно."
   ]
  },
  {
   "cell_type": "markdown",
   "metadata": {},
   "source": [
    "Обозначения:\n",
    "\n",
    "- $X$ — матрица признаков (нулевой столбец состоит из единиц)\n",
    "\n",
    "- $y$ — вектор целевого признака\n",
    "\n",
    "- $P$ — матрица, на которую умножаются признаки\n",
    "\n",
    "- $w$ — вектор весов линейной регрессии (нулевой элемент равен сдвигу)"
   ]
  },
  {
   "cell_type": "markdown",
   "metadata": {},
   "source": [
    "Предсказания:\n",
    "\n",
    "$$\n",
    "a = Xw\n",
    "$$\n",
    "\n",
    "Задача обучения:\n",
    "\n",
    "$$\n",
    "w = \\arg\\min_w MSE(Xw, y)\n",
    "$$\n",
    "\n",
    "Формула обучения:\n",
    "\n",
    "$$\n",
    "w = (X^T X)^{-1} X^T y\n",
    "$$\n"
   ]
  },
  {
   "cell_type": "markdown",
   "metadata": {},
   "source": [
    "**Вопрос:** Признаки умножают на обратимую матрицу. Изменится ли качество линейной регрессии?"
   ]
  },
  {
   "cell_type": "markdown",
   "metadata": {},
   "source": [
    "**Ответ:** не изменится\n",
    "\n",
    "**Обоснование:**\n",
    "\n",
    "При умножении признаков на обратимую матрицу, предсказания не меняются. Докажем это.\n",
    "\n",
    "Пусть R - обратимая матрица, с которой возможно произведение матрицы признаков X. \n",
    "\n",
    "Подставим в формуле вычисления предсказаний вместо X произведение XR и формулу для вычисления вектора весов линейной регрессии $a=Xw$\n",
    "$$\n",
    "a_1 = XRw = (XR)((XR)^T (XR))^{-1} (XR)^T y\n",
    "$$\n",
    "Раскроем транспонирование матриц\n",
    "$$\n",
    "a_1 = (XR)(R^TX^TXR)^{-1}R^TX^T y \\qquad (1)\n",
    "$$\n",
    "Следовательно $(R^TX^TXR)^{-1}=(R^{-1}(X^TX)^{-1}(R^T)^{-1})$. Подставляем в (1):\n",
    "$$\n",
    "a_1 = XRR^{-1}(X^TX)^{-1}(R^T)^{-1}R^TX^T y = XE(X^TX)^{-1}EX^Ty = X(X^TX)^{-1}X^Ty = a\n",
    "$$\n"
   ]
  },
  {
   "cell_type": "markdown",
   "metadata": {},
   "source": [
    "## Алгоритм преобразования"
   ]
  },
  {
   "cell_type": "markdown",
   "metadata": {},
   "source": [
    "**Алгоритм**\n",
    "\n",
    "Исходя из предыдущего пункта можно понять, что качество модели не ухудшится, если умножить матрицу признаков на обратимую матрицу. Значит, для защиты персональных данных можно умножить матрицу признаков на случайно сгенерированную обратимую матрицу. Для этого нужно:\n",
    "\n",
    "- сгенерировать случайную матрицу, на которую можно будет умножить матрицу признаков\n",
    "- проверить сгенерированную матрицу на обратимость\n",
    "- преобразовать матрицу признаков умножением её на сгенерированную матрицу"
   ]
  },
  {
   "cell_type": "markdown",
   "metadata": {},
   "source": [
    "**Обоснование**\n",
    "\n",
    "Чтобы на случайно сгенерированную матрицу можно было умножить матрицу признаков и при этом сохранить размерность, размер такой сгенерированной матрицы необходимо задать $nxn$, где n - количество признаков (столбцов в матрице в признаков).\n",
    "\n",
    "Чтобы проверить случайно сгенерированную матрицу на обратимость, необходимо проверить, чтобы её определитель не равнялся нулю."
   ]
  },
  {
   "cell_type": "markdown",
   "metadata": {},
   "source": [
    "## Проверка алгоритма"
   ]
  },
  {
   "cell_type": "code",
   "execution_count": 7,
   "metadata": {},
   "outputs": [],
   "source": [
    "# Реализация преобразования данных в виде функции\n",
    "\n",
    "def crypt_features(features):\n",
    "    '''Функция преобразования матрицы признаков'''\n",
    "    \n",
    "    np.random.seed(123456)\n",
    "    \n",
    "    n = features.shape[1]\n",
    "    reversible_matrix = np.random.randint(1, 100, size=(n,n))\n",
    "    \n",
    "    op = np.linalg.det(reversible_matrix)\n",
    "    while op == 0:\n",
    "        np.random.seed(123456)\n",
    "        reversible_matrix = np.random.randint(1, 100, size=(n,n))\n",
    "        op = np.linalg.det(reversible_matrix)\n",
    "        \n",
    "    crypted_features = np.dot(features, reversible_matrix)\n",
    "    \n",
    "    return crypted_features"
   ]
  },
  {
   "cell_type": "code",
   "execution_count": 8,
   "metadata": {},
   "outputs": [
    {
     "name": "stdout",
     "output_type": "stream",
     "text": [
      "До преобразования данных метрика R2 = 0.41921160241971167\n"
     ]
    }
   ],
   "source": [
    "# Нахождение качества линейной регрессии ДО преобразования данных\n",
    "\n",
    "\n",
    "    # Разделение данных на выборки\n",
    "features = data.drop('Страховые выплаты', axis=1)\n",
    "target = data['Страховые выплаты']\n",
    "features_train, features_test, target_train, target_test = train_test_split(features, target, \n",
    "                                                                            test_size=0.25, random_state=123456)\n",
    "\n",
    "\n",
    "model = LinearRegression()\n",
    "model.fit(features_train, target_train)\n",
    "\n",
    "predictions = model.predict(features_test)\n",
    "R2_original_data = r2_score(target_test, predictions)\n",
    "\n",
    "print(\"До преобразования данных метрика R2 =\", R2_original_data)"
   ]
  },
  {
   "cell_type": "code",
   "execution_count": 9,
   "metadata": {},
   "outputs": [
    {
     "name": "stdout",
     "output_type": "stream",
     "text": [
      "После преобразования данных R2 = 0.4192116024197241\n"
     ]
    }
   ],
   "source": [
    "# Нахождение качества линейной регрессии ПОСЛЕ преобразования данных\n",
    "\n",
    "\n",
    "crypted_features = crypt_features(features)\n",
    "\n",
    "    # Разделение данных на выборки\n",
    "features_train, features_test, target_train, target_test = train_test_split(crypted_features, target, \n",
    "                                                                            test_size=0.25, random_state=123456)\n",
    "\n",
    "\n",
    "model = LinearRegression()\n",
    "model.fit(features_train, target_train)\n",
    "\n",
    "predictions = model.predict(features_test)\n",
    "R2_crypted_data = r2_score(target_test, predictions)\n",
    "\n",
    "print(\"После преобразования данных R2 =\", R2_crypted_data)"
   ]
  },
  {
   "cell_type": "markdown",
   "metadata": {},
   "source": [
    "### Вывод\n",
    "\n",
    "Предложенный алгоритм реализован. Значения метрики R2 до и после преобразования данных почти идентичны, различия наблюдаются только после 13 знаков после запятой."
   ]
  }
 ],
 "metadata": {
  "ExecuteTimeLog": [
   {
    "duration": 1026,
    "start_time": "2022-07-27T08:30:24.602Z"
   },
   {
    "duration": 90,
    "start_time": "2022-07-27T08:31:00.448Z"
   },
   {
    "duration": 44,
    "start_time": "2022-07-27T08:31:08.966Z"
   },
   {
    "duration": 8,
    "start_time": "2022-07-27T08:33:26.377Z"
   },
   {
    "duration": 8,
    "start_time": "2022-07-27T08:34:01.862Z"
   },
   {
    "duration": 52,
    "start_time": "2022-07-27T08:34:10.666Z"
   },
   {
    "duration": 48,
    "start_time": "2022-07-27T08:34:18.787Z"
   },
   {
    "duration": 8,
    "start_time": "2022-07-27T08:34:24.928Z"
   },
   {
    "duration": 13,
    "start_time": "2022-07-27T08:36:32.547Z"
   },
   {
    "duration": 1033,
    "start_time": "2022-07-27T20:34:03.800Z"
   },
   {
    "duration": 63,
    "start_time": "2022-07-27T20:34:04.836Z"
   },
   {
    "duration": 9,
    "start_time": "2022-07-27T20:34:04.900Z"
   },
   {
    "duration": 19,
    "start_time": "2022-07-27T20:34:04.911Z"
   },
   {
    "duration": 5,
    "start_time": "2022-07-27T20:34:04.931Z"
   },
   {
    "duration": 98,
    "start_time": "2022-07-27T20:34:04.937Z"
   },
   {
    "duration": 6,
    "start_time": "2022-07-27T20:36:17.593Z"
   },
   {
    "duration": 8,
    "start_time": "2022-07-27T20:38:18.180Z"
   },
   {
    "duration": 9,
    "start_time": "2022-07-27T20:41:34.413Z"
   },
   {
    "duration": 8,
    "start_time": "2022-07-27T20:43:55.148Z"
   },
   {
    "duration": 9,
    "start_time": "2022-07-27T20:44:04.607Z"
   },
   {
    "duration": 15,
    "start_time": "2022-07-27T20:46:03.528Z"
   },
   {
    "duration": 9,
    "start_time": "2022-07-27T20:46:09.588Z"
   },
   {
    "duration": 7,
    "start_time": "2022-07-27T20:46:17.669Z"
   },
   {
    "duration": 13,
    "start_time": "2022-07-27T20:49:09.114Z"
   },
   {
    "duration": 1064,
    "start_time": "2022-07-27T20:51:20.324Z"
   },
   {
    "duration": 51,
    "start_time": "2022-07-27T20:51:21.390Z"
   },
   {
    "duration": 14,
    "start_time": "2022-07-27T20:51:21.443Z"
   },
   {
    "duration": 16,
    "start_time": "2022-07-27T20:51:21.458Z"
   },
   {
    "duration": 25,
    "start_time": "2022-07-27T20:51:21.475Z"
   },
   {
    "duration": 57,
    "start_time": "2022-07-27T20:51:21.501Z"
   },
   {
    "duration": 108,
    "start_time": "2022-07-27T20:51:21.559Z"
   },
   {
    "duration": 4,
    "start_time": "2022-07-27T20:54:06.067Z"
   },
   {
    "duration": 19,
    "start_time": "2022-07-27T20:54:08.861Z"
   },
   {
    "duration": 4,
    "start_time": "2022-07-27T20:56:44.377Z"
   },
   {
    "duration": 6,
    "start_time": "2022-07-27T20:56:45.536Z"
   },
   {
    "duration": 9,
    "start_time": "2022-07-27T20:56:46.447Z"
   },
   {
    "duration": 64,
    "start_time": "2022-07-27T20:56:48.285Z"
   },
   {
    "duration": 4,
    "start_time": "2022-07-27T20:57:03.416Z"
   },
   {
    "duration": 6,
    "start_time": "2022-07-27T20:57:04.495Z"
   },
   {
    "duration": 10,
    "start_time": "2022-07-27T20:57:04.787Z"
   },
   {
    "duration": 14,
    "start_time": "2022-07-27T20:57:05.349Z"
   },
   {
    "duration": 5,
    "start_time": "2022-07-27T20:57:14.228Z"
   },
   {
    "duration": 6,
    "start_time": "2022-07-27T20:57:15.279Z"
   },
   {
    "duration": 9,
    "start_time": "2022-07-27T20:57:15.647Z"
   },
   {
    "duration": 3169,
    "start_time": "2022-07-27T20:57:16.176Z"
   },
   {
    "duration": 4,
    "start_time": "2022-07-27T20:58:43.879Z"
   },
   {
    "duration": 6,
    "start_time": "2022-07-27T20:58:44.187Z"
   },
   {
    "duration": 12,
    "start_time": "2022-07-27T20:58:44.718Z"
   },
   {
    "duration": 14,
    "start_time": "2022-07-27T20:58:45.468Z"
   },
   {
    "duration": 4,
    "start_time": "2022-07-27T21:01:22.187Z"
   },
   {
    "duration": 11,
    "start_time": "2022-07-27T21:01:22.464Z"
   },
   {
    "duration": 18,
    "start_time": "2022-07-27T21:01:23.026Z"
   },
   {
    "duration": 17,
    "start_time": "2022-07-27T21:01:47.354Z"
   },
   {
    "duration": 16,
    "start_time": "2022-07-27T21:01:57.760Z"
   },
   {
    "duration": 8,
    "start_time": "2022-07-27T21:02:42.776Z"
   },
   {
    "duration": 12,
    "start_time": "2022-07-27T21:03:44.298Z"
   },
   {
    "duration": 43,
    "start_time": "2022-07-27T21:03:49.115Z"
   },
   {
    "duration": 14,
    "start_time": "2022-07-27T21:03:52.477Z"
   },
   {
    "duration": 13,
    "start_time": "2022-07-27T21:04:09.760Z"
   },
   {
    "duration": 4,
    "start_time": "2022-07-27T21:04:19.660Z"
   },
   {
    "duration": 11,
    "start_time": "2022-07-27T21:04:20.006Z"
   },
   {
    "duration": 8,
    "start_time": "2022-07-27T21:04:21.163Z"
   },
   {
    "duration": 1075,
    "start_time": "2022-07-27T21:05:26.704Z"
   },
   {
    "duration": 49,
    "start_time": "2022-07-27T21:05:27.781Z"
   },
   {
    "duration": 13,
    "start_time": "2022-07-27T21:05:27.832Z"
   },
   {
    "duration": 5,
    "start_time": "2022-07-27T21:05:27.847Z"
   },
   {
    "duration": 13,
    "start_time": "2022-07-27T21:05:27.854Z"
   },
   {
    "duration": 9,
    "start_time": "2022-07-27T21:05:27.868Z"
   }
  ],
  "kernelspec": {
   "display_name": "Python 3 (ipykernel)",
   "language": "python",
   "name": "python3"
  },
  "language_info": {
   "codemirror_mode": {
    "name": "ipython",
    "version": 3
   },
   "file_extension": ".py",
   "mimetype": "text/x-python",
   "name": "python",
   "nbconvert_exporter": "python",
   "pygments_lexer": "ipython3",
   "version": "3.9.12"
  },
  "toc": {
   "base_numbering": 1,
   "nav_menu": {},
   "number_sections": true,
   "sideBar": true,
   "skip_h1_title": true,
   "title_cell": "Содержание",
   "title_sidebar": "Contents",
   "toc_cell": true,
   "toc_position": {},
   "toc_section_display": true,
   "toc_window_display": true
  }
 },
 "nbformat": 4,
 "nbformat_minor": 4
}
